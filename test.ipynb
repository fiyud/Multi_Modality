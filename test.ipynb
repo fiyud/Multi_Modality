{
 "cells": [
  {
   "cell_type": "code",
   "execution_count": 2,
   "metadata": {},
   "outputs": [
    {
     "name": "stdout",
     "output_type": "stream",
     "text": [
      "WARNING:tensorflow:From c:\\Users\\user\\AppData\\Local\\Programs\\Python\\Python312\\Lib\\site-packages\\tf_keras\\src\\backend.py:1400: The name tf.executing_eagerly_outside_functions is deprecated. Please use tf.compat.v1.executing_eagerly_outside_functions instead.\n",
      "\n",
      "WARNING:tensorflow:From c:\\Users\\user\\AppData\\Local\\Programs\\Python\\Python312\\Lib\\site-packages\\tf_keras\\src\\layers\\pooling\\max_pooling2d.py:161: The name tf.nn.max_pool is deprecated. Please use tf.nn.max_pool2d instead.\n",
      "\n"
     ]
    }
   ],
   "source": [
    "# from flask import Flask, request, jsonify\n",
    "import os\n",
    "from Audio2text.separate_audio import *\n",
    "from Audio2text import diarize_model\n",
    "from Denoiser.denoiser_run import denoise_audio\n",
    "from S2T import *\n",
    "from Speech_emo.emotion_predict import *\n",
    "from Speech_emo import *\n",
    "import time"
   ]
  },
  {
   "cell_type": "code",
   "execution_count": 5,
   "metadata": {},
   "outputs": [],
   "source": [
    "file_save_path = \"H://Learning Files/Project AI/Aidemo/aidemo/Audio_saving_file/Web_audio/y2mate.com - Dũng Ct Dảk Dảk Bủh Bủh Lmao Full HD.mp3\""
   ]
  },
  {
   "cell_type": "code",
   "execution_count": 6,
   "metadata": {},
   "outputs": [
    {
     "name": "stdout",
     "output_type": "stream",
     "text": [
      "------Denosing audio------\n",
      "Ran in 2.128126621246338s\n",
      "------Diarizing audio------\n",
      "Finished diarization in 2.5947067737579346s\n",
      "                             segment label     speaker  start     end\n",
      "0  [ 00:00:00.314 -->  00:00:03.556]     A  SPEAKER_00  310.0  3560.0\n",
      "-----Segmenting audio-----\n",
      "Saved y2mate_denoised_segment_1.wav\n",
      "------Predicting emotion------\n",
      "1/1 [==============================] - 0s 80ms/step\n",
      "Finished predicting emotion in 0.3486781120300293s\n",
      "------Transcribing audio------\n",
      "-------Done--------, time:  40.97812271118164\n"
     ]
    }
   ],
   "source": [
    "start = time.time()\n",
    "denoised_output_folder = \"H://Learning Files/Project AI/Aidemo/aidemo/Audio_saving_file/Denoised/\"\n",
    "print(\"------Denosing audio------\")\n",
    "audio_denoised_link = denoise_audio(audio_link=file_save_path, output_folder=denoised_output_folder)\n",
    "    \n",
    "    # step 2: diaries audio using speaker diarization\n",
    "print(\"------Diarizing audio------\")\n",
    "audio = whisperx.load_audio(audio_denoised_link) # load and embed audio for diarization\n",
    "diarize_segments = get_DiarizeSegments(diarize_model = diarize_model,audio=audio, min_speakers = 2, max_speakers=2)\n",
    "print(diarize_segments)\n",
    "print('-----Segmenting audio-----')\n",
    "threshold = 600.0\n",
    "diarize_segments['duration'] = diarize_segments['end'] - diarize_segments['start']\n",
    "diarize_segments = diarize_segments[diarize_segments['duration'] >= threshold]\n",
    "\n",
    "segment_path = \"H://Learning Files/Project AI/Aidemo/aidemo/Audio_saving_file/Segmented/\"\n",
    "diarize_segments = cut_and_save_segments(audio_link=audio_denoised_link, diarize_segments=diarize_segments, format_type = 'wav', save_path = segment_path)\n",
    "\n",
    "# print(diarize_segments)\n",
    "# bonus: combine audio\n",
    "# print(\"------Combining audio------\")\n",
    "# audio_combine = combine_audio(diarize_segments, save_path= \"H://Learning Files/Project AI/Aidemo/aidemo/Audio_saving_file/Combined/\")\n",
    "# step 3: speech emotion\n",
    "print(\"------Predicting emotion------\")\n",
    "diarize_segments = predict_diarize_emo(diarize_segments)\n",
    "\n",
    "# step 4: speech to text\n",
    "print(\"------Transcribing audio------\")\n",
    "diarize_segments = text_diarize_save(diarize_segments)\n",
    "end = time.time()\n",
    "# step 5: return to client\n",
    "print(\"-------Done--------, time: \", end-start)\t\n"
   ]
  },
  {
   "cell_type": "code",
   "execution_count": 7,
   "metadata": {},
   "outputs": [
    {
     "data": {
      "text/html": [
       "<div>\n",
       "<style scoped>\n",
       "    .dataframe tbody tr th:only-of-type {\n",
       "        vertical-align: middle;\n",
       "    }\n",
       "\n",
       "    .dataframe tbody tr th {\n",
       "        vertical-align: top;\n",
       "    }\n",
       "\n",
       "    .dataframe thead th {\n",
       "        text-align: right;\n",
       "    }\n",
       "</style>\n",
       "<table border=\"1\" class=\"dataframe\">\n",
       "  <thead>\n",
       "    <tr style=\"text-align: right;\">\n",
       "      <th></th>\n",
       "      <th>segment</th>\n",
       "      <th>label</th>\n",
       "      <th>speaker</th>\n",
       "      <th>start</th>\n",
       "      <th>end</th>\n",
       "      <th>duration</th>\n",
       "      <th>link</th>\n",
       "      <th>emotion</th>\n",
       "      <th>text</th>\n",
       "    </tr>\n",
       "  </thead>\n",
       "  <tbody>\n",
       "    <tr>\n",
       "      <th>0</th>\n",
       "      <td>[ 00:00:00.314 --&gt;  00:00:03.556]</td>\n",
       "      <td>A</td>\n",
       "      <td>SPEAKER_00</td>\n",
       "      <td>310.0</td>\n",
       "      <td>3560.0</td>\n",
       "      <td>3250.0</td>\n",
       "      <td>H://Learning Files/Project AI/Aidemo/aidemo/Au...</td>\n",
       "      <td>[0.4664885699748993, 0.06364249438047409, 0.45...</td>\n",
       "      <td>{'text': 'đẳng đẳng bủ bủ lờ mau.'}</td>\n",
       "    </tr>\n",
       "  </tbody>\n",
       "</table>\n",
       "</div>"
      ],
      "text/plain": [
       "                             segment label     speaker  start     end  \\\n",
       "0  [ 00:00:00.314 -->  00:00:03.556]     A  SPEAKER_00  310.0  3560.0   \n",
       "\n",
       "   duration                                               link  \\\n",
       "0    3250.0  H://Learning Files/Project AI/Aidemo/aidemo/Au...   \n",
       "\n",
       "                                             emotion  \\\n",
       "0  [0.4664885699748993, 0.06364249438047409, 0.45...   \n",
       "\n",
       "                                  text  \n",
       "0  {'text': 'đẳng đẳng bủ bủ lờ mau.'}  "
      ]
     },
     "execution_count": 7,
     "metadata": {},
     "output_type": "execute_result"
    }
   ],
   "source": [
    "diarize_segments"
   ]
  },
  {
   "cell_type": "code",
   "execution_count": 9,
   "metadata": {},
   "outputs": [
    {
     "data": {
      "text/plain": [
       "{'text': 'a lô.'}"
      ]
     },
     "execution_count": 9,
     "metadata": {},
     "output_type": "execute_result"
    }
   ],
   "source": [
    "diarize_segments['text'][0]"
   ]
  },
  {
   "cell_type": "code",
   "execution_count": 8,
   "metadata": {},
   "outputs": [],
   "source": [
    "import torch"
   ]
  },
  {
   "cell_type": "code",
   "execution_count": 38,
   "metadata": {},
   "outputs": [],
   "source": [
    "emotion_labels = ['Angry', 'Anxiety', 'Happy', 'Sad', 'Neutral']"
   ]
  },
  {
   "cell_type": "code",
   "execution_count": 9,
   "metadata": {},
   "outputs": [],
   "source": [
    "# return 'A: xin chào (10% vui, 50% bình thường, 40% sợ)B: xin chào (10% vui, 50% bình thường, 40% sợ)', 200\n",
    "\n",
    "string_output = ''\n",
    "for i in range(len(diarize_segments)):\n",
    "    id = diarize_segments.iloc[i]['speaker']\n",
    "    text = diarize_segments.iloc[i]['text']['text']\n",
    "    emotion = diarize_segments.iloc[i]['emotion']\n",
    "    #  map to the emotion label\n",
    "    \n",
    "    temp = zip(emotion, emotion_labels)\n",
    "    emotion = [f'{emo:.2f}% {label}' for emo, label in temp]\n",
    "     \n",
    "    string_output += id + ': ' + text + ' (' + ','.join(emotion) + ')'    "
   ]
  },
  {
   "cell_type": "code",
   "execution_count": 10,
   "metadata": {},
   "outputs": [
    {
     "data": {
      "text/plain": [
       "'SPEAKER_01: ờ. (0.00% Angry,0.00% Anxiety,100.00% Happy,0.00% Sad,0.00% Neutral)SPEAKER_01: tin này cho là minh viện tin nhắn. (99.91% Angry,0.00% Anxiety,0.09% Happy,0.00% Sad,0.00% Neutral)SPEAKER_01: quán ông xì ở đây là vùng vừa hỏi. (72.20% Angry,0.00% Anxiety,13.59% Happy,14.20% Sad,0.00% Neutral)SPEAKER_01: n. (19.39% Angry,0.00% Anxiety,80.56% Happy,0.05% Sad,0.00% Neutral)SPEAKER_01: mối bóng này ở những kỳ địa bát làng vùng cua có đường hạ của. (0.01% Angry,0.00% Anxiety,99.99% Happy,0.00% Sad,0.00% Neutral)SPEAKER_00: song quân á thì ăn. (0.05% Angry,0.00% Anxiety,99.95% Happy,0.00% Sad,0.00% Neutral)SPEAKER_01: của mình nó là cái gì chứ trời à phải sợ gì tự làm. (0.01% Angry,0.00% Anxiety,99.99% Happy,0.00% Sad,0.00% Neutral)SPEAKER_01: rồi thì mặt lạ gới. (7.23% Angry,0.00% Anxiety,0.39% Happy,92.38% Sad,0.01% Neutral)SPEAKER_01: tài chính nhì. (0.28% Angry,0.00% Anxiety,99.72% Happy,0.00% Sad,0.00% Neutral)SPEAKER_00: vâng vâng vâng. (0.00% Angry,0.00% Anxiety,100.00% Happy,0.00% Sad,0.00% Neutral)SPEAKER_00: anh biết thế giới di động không anh. (20.02% Angry,0.00% Anxiety,79.98% Happy,0.00% Sad,0.00% Neutral)SPEAKER_01: thị xã duy đạo ở đâu. (0.00% Angry,0.00% Anxiety,100.00% Happy,0.00% Sad,0.00% Neutral)SPEAKER_00: cái gì kia máy sạch này ạ. (59.02% Angry,0.00% Anxiety,40.98% Happy,0.00% Sad,0.00% Neutral)SPEAKER_01: máy xạ nhau ở trên đấy á hả. (99.84% Angry,0.00% Anxiety,0.08% Happy,0.07% Sad,0.00% Neutral)SPEAKER_00: đúng rồi anh cứ đứng đấy để em nền. (94.10% Angry,0.00% Anxiety,5.44% Happy,0.46% Sad,0.00% Neutral)SPEAKER_01: nói nhanh nhanh nè. (0.00% Angry,0.00% Anxiety,100.00% Happy,0.00% Sad,0.00% Neutral)'"
      ]
     },
     "execution_count": 10,
     "metadata": {},
     "output_type": "execute_result"
    }
   ],
   "source": [
    "string_output"
   ]
  },
  {
   "cell_type": "code",
   "execution_count": 3,
   "metadata": {},
   "outputs": [],
   "source": [
    "import os"
   ]
  },
  {
   "cell_type": "code",
   "execution_count": 8,
   "metadata": {},
   "outputs": [
    {
     "name": "stdout",
     "output_type": "stream",
     "text": [
      "Subdirectory Path: h:\\Learning Files\\Project AI\\Aidemo\\aidemo\\Denoise\n"
     ]
    }
   ],
   "source": [
    "import os\n",
    "\n",
    "# Thư mục con\n",
    "subdir = \"Denoised\"\n",
    "\n",
    "# Lấy đường dẫn đầy đủ của thư mục con\n",
    "subdir_path = os.path.join(os.getcwd(), subdir)\n",
    "print(\"Subdirectory Path:\", subdir_path)\n"
   ]
  },
  {
   "cell_type": "code",
   "execution_count": null,
   "metadata": {},
   "outputs": [],
   "source": []
  }
 ],
 "metadata": {
  "kernelspec": {
   "display_name": "Python 3",
   "language": "python",
   "name": "python3"
  },
  "language_info": {
   "codemirror_mode": {
    "name": "ipython",
    "version": 3
   },
   "file_extension": ".py",
   "mimetype": "text/x-python",
   "name": "python",
   "nbconvert_exporter": "python",
   "pygments_lexer": "ipython3",
   "version": "3.12.4"
  }
 },
 "nbformat": 4,
 "nbformat_minor": 2
}
